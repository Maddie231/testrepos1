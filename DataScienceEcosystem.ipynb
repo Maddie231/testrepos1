{
 "cells": [
  {
   "cell_type": "markdown",
   "id": "bcecc926-f9fd-4e63-89f8-589adc837485",
   "metadata": {},
   "source": [
    "#  Data Science Tools and Ecosystem"
   ]
  },
  {
   "cell_type": "markdown",
   "id": "20138206-732e-483b-9c97-a08b3c4b42fc",
   "metadata": {},
   "source": [
    "In this notebook, Data Science Tools and Ecosystem are summarized."
   ]
  },
  {
   "cell_type": "markdown",
   "id": "2be07b1a-20b6-4d83-a539-479e8f12940a",
   "metadata": {},
   "source": [
    "Some of the popular languages that Data Scientists use are:\n",
    "    \n",
    "    1. Python\n",
    "    2. R\n",
    "    3. Julia\n",
    "    4. Java"
   ]
  },
  {
   "cell_type": "markdown",
   "id": "a3431451-1cf5-405e-998f-b5fa89ab8180",
   "metadata": {},
   "source": [
    "Some of the commonly used libraries used by Data Scientists include:\n",
    "\n",
    "    1. Matplotlib\n",
    "    2. TensorFlow\n",
    "    3. Keras\n",
    "    4. PyTorch"
   ]
  },
  {
   "cell_type": "markdown",
   "id": "fbd6fd0f-cb38-4b86-b19d-33bc96f37695",
   "metadata": {},
   "source": [
    "|**Data Science Tools** |\n",
    "|------------------- |\n",
    "| Apache Zepplin     |\n",
    "| Jupiter Notebook   |\n",
    "| Spyder             |"
   ]
  },
  {
   "cell_type": "markdown",
   "id": "3fcd2536-91dc-4ca4-b5b0-4536843fd63c",
   "metadata": {},
   "source": [
    "### Below are a few examples of evaluating arithmetic expressions in Python"
   ]
  },
  {
   "cell_type": "code",
   "execution_count": 2,
   "id": "7cbdac62-87c5-4030-8457-90be0a1e7cc0",
   "metadata": {},
   "outputs": [
    {
     "data": {
      "text/plain": [
       "17"
      ]
     },
     "execution_count": 2,
     "metadata": {},
     "output_type": "execute_result"
    }
   ],
   "source": [
    "# This a simple arithmetic expression to mutiply then add integers\n",
    "(3*4)+5"
   ]
  },
  {
   "cell_type": "code",
   "execution_count": 6,
   "id": "244da1f6-69b5-4b44-bac7-23d02bbf13ea",
   "metadata": {},
   "outputs": [
    {
     "name": "stdout",
     "output_type": "stream",
     "text": [
      "3.3333333333333335 hours\n"
     ]
    }
   ],
   "source": [
    "#This will convert 200 minutes to hours by diving by 60\n",
    "result_in_hours=200/60\n",
    "print(str(result_in_hours)+\" hours\")"
   ]
  },
  {
   "cell_type": "markdown",
   "id": "427d9966-59a3-4c6b-bfb1-6e6049b9ed58",
   "metadata": {},
   "source": [
    "**Objectives:**\n",
    "- Python\n",
    "- Julia\n",
    "- R\n",
    "- Java\n",
    "- SQL\n"
   ]
  },
  {
   "cell_type": "markdown",
   "id": "b371146e-6296-4b14-91d2-86ffd777854b",
   "metadata": {},
   "source": [
    "## Author\n",
    "Madhuri Malyala"
   ]
  },
  {
   "cell_type": "code",
   "execution_count": null,
   "id": "c00d19f8-f731-44e3-a697-c07d0735be0e",
   "metadata": {},
   "outputs": [],
   "source": []
  }
 ],
 "metadata": {
  "kernelspec": {
   "display_name": "Python 3 (ipykernel)",
   "language": "python",
   "name": "python3"
  },
  "language_info": {
   "codemirror_mode": {
    "name": "ipython",
    "version": 3
   },
   "file_extension": ".py",
   "mimetype": "text/x-python",
   "name": "python",
   "nbconvert_exporter": "python",
   "pygments_lexer": "ipython3",
   "version": "3.9.13"
  }
 },
 "nbformat": 4,
 "nbformat_minor": 5
}
